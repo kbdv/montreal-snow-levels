{
 "cells": [
  {
   "cell_type": "markdown",
   "metadata": {},
   "source": [
    "Before running this notebook, create a Data Lake Storage account in Azure.\n",
    "<br>Create three separate blob containers for raw, processed and presentation."
   ]
  },
  {
   "cell_type": "code",
   "execution_count": 1,
   "metadata": {},
   "outputs": [],
   "source": [
    "# Enter your credentials\n",
    "\n",
    "storage_account = \"\"\n",
    "access_key = \"\""
   ]
  },
  {
   "cell_type": "code",
   "execution_count": null,
   "metadata": {},
   "outputs": [],
   "source": [
    "# mount an Azure Data Lake Storage for the raw folder\n",
    "\n",
    "dbutils.fs.mount(\n",
    "    source=f\"wasbs://raw@{storage_account}.blob.core.windows.net\",\n",
    "    mount_point=\"/mnt/weather/raw\",\n",
    "    extra_configs={\n",
    "        f\"fs.azure.account.key.{storage_account}.blob.core.windows.net\": access_key\n",
    "    },\n",
    ")"
   ]
  },
  {
   "cell_type": "code",
   "execution_count": null,
   "metadata": {},
   "outputs": [],
   "source": [
    "# mount an Azure Data Lake Storage for the processed folder\n",
    "\n",
    "dbutils.fs.mount(\n",
    "    source=f\"wasbs://processed@{storage_account}.blob.core.windows.net\",\n",
    "    mount_point=\"/mnt/weather/processed\",\n",
    "    extra_configs={\n",
    "        f\"fs.azure.account.key.{storage_account}.blob.core.windows.net\": access_key\n",
    "    },\n",
    ")"
   ]
  },
  {
   "cell_type": "code",
   "execution_count": null,
   "metadata": {},
   "outputs": [],
   "source": [
    "# mount an Azure Data Lake Storage for the presentation folder\n",
    "\n",
    "dbutils.fs.mount(\n",
    "    source=f\"wasbs://presentation@{storage_account}.blob.core.windows.net\",\n",
    "    mount_point=\"/mnt/weather/presentation\",\n",
    "    extra_configs={\n",
    "        f\"fs.azure.account.key.{storage_account}.blob.core.windows.net\": access_key\n",
    "    },\n",
    ")"
   ]
  }
 ],
 "metadata": {
  "kernelspec": {
   "display_name": "Python 3",
   "language": "python",
   "name": "python3"
  },
  "language_info": {
   "codemirror_mode": {
    "name": "ipython",
    "version": 3
   },
   "file_extension": ".py",
   "mimetype": "text/x-python",
   "name": "python",
   "nbconvert_exporter": "python",
   "pygments_lexer": "ipython3",
   "version": "3.10.11"
  }
 },
 "nbformat": 4,
 "nbformat_minor": 2
}
