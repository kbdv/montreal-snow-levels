{
 "cells": [
  {
   "cell_type": "markdown",
   "metadata": {
    "application/vnd.databricks.v1+cell": {
     "cellMetadata": {},
     "inputWidgets": {},
     "nuid": "fce224dc-4b8f-46ea-b514-aa2039ee9f4b",
     "showTitle": false,
     "title": ""
    }
   },
   "source": [
    "Before running this notebook, create a Data Lake Storage account in Azure.\n",
    "<br>Create three separate blob containers for raw, processed and presentation."
   ]
  },
  {
   "cell_type": "code",
   "execution_count": null,
   "metadata": {
    "application/vnd.databricks.v1+cell": {
     "cellMetadata": {
      "byteLimit": 2048000,
      "rowLimit": 10000
     },
     "inputWidgets": {},
     "nuid": "56d0c06b-6f51-4229-aa39-3bea8b8360c4",
     "showTitle": false,
     "title": ""
    }
   },
   "outputs": [],
   "source": [
    "# Enter your credentials\n",
    "\n",
    "storage_account = \"\"\n",
    "access_key = \"\""
   ]
  },
  {
   "cell_type": "code",
   "execution_count": null,
   "metadata": {
    "application/vnd.databricks.v1+cell": {
     "cellMetadata": {
      "byteLimit": 2048000,
      "rowLimit": 10000
     },
     "inputWidgets": {},
     "nuid": "4c68bd96-af85-4ada-9b7d-7bce83ae90db",
     "showTitle": false,
     "title": ""
    }
   },
   "outputs": [],
   "source": [
    "# mount an Azure Data Lake Storage for the raw folder\n",
    "\n",
    "dbutils.fs.mount(\n",
    "    source=f\"wasbs://raw@{storage_account}.blob.core.windows.net\",\n",
    "    mount_point=\"/mnt/weather/raw\",\n",
    "    extra_configs={\n",
    "        f\"fs.azure.account.key.{storage_account}.blob.core.windows.net\": access_key\n",
    "    },\n",
    ")"
   ]
  },
  {
   "cell_type": "code",
   "execution_count": null,
   "metadata": {
    "application/vnd.databricks.v1+cell": {
     "cellMetadata": {
      "byteLimit": 2048000,
      "rowLimit": 10000
     },
     "inputWidgets": {},
     "nuid": "686fe2af-5d6e-49e1-b361-eb0de969add1",
     "showTitle": false,
     "title": ""
    }
   },
   "outputs": [],
   "source": [
    "# mount an Azure Data Lake Storage for the processed folder\n",
    "\n",
    "dbutils.fs.mount(\n",
    "    source=f\"wasbs://processed@{storage_account}.blob.core.windows.net\",\n",
    "    mount_point=\"/mnt/weather/processed\",\n",
    "    extra_configs={\n",
    "        f\"fs.azure.account.key.{storage_account}.blob.core.windows.net\": access_key\n",
    "    },\n",
    ")"
   ]
  },
  {
   "cell_type": "code",
   "execution_count": null,
   "metadata": {
    "application/vnd.databricks.v1+cell": {
     "cellMetadata": {
      "byteLimit": 2048000,
      "rowLimit": 10000
     },
     "inputWidgets": {},
     "nuid": "5dda64ef-769f-4ddc-8dc3-b5b114c0c9a6",
     "showTitle": false,
     "title": ""
    }
   },
   "outputs": [],
   "source": [
    "# mount an Azure Data Lake Storage for the presentation folder\n",
    "\n",
    "dbutils.fs.mount(\n",
    "    source=f\"wasbs://presentation@{storage_account}.blob.core.windows.net\",\n",
    "    mount_point=\"/mnt/weather/presentation\",\n",
    "    extra_configs={\n",
    "        f\"fs.azure.account.key.{storage_account}.blob.core.windows.net\": access_key\n",
    "    },\n",
    ")"
   ]
  }
 ],
 "metadata": {
  "application/vnd.databricks.v1+notebook": {
   "dashboards": [],
   "language": "python",
   "notebookMetadata": {
    "pythonIndentUnit": 4
   },
   "notebookName": "1. Mount Azure Data Lake Storage",
   "widgets": {}
  },
  "language_info": {
   "name": "python"
  }
 },
 "nbformat": 4,
 "nbformat_minor": 0
}
