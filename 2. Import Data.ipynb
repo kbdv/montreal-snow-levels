{
 "cells": [
  {
   "cell_type": "markdown",
   "metadata": {
    "application/vnd.databricks.v1+cell": {
     "cellMetadata": {},
     "inputWidgets": {},
     "nuid": "2ee7e8d3-4d2c-4193-8408-dff7cd69e9fa",
     "showTitle": false,
     "title": ""
    }
   },
   "source": [
    "The data comes from https://montreal.weatherstats.ca/download.html \n",
    "<br>The historical weather data, forecast and conditions graphics are gathered from Environment and Climate Change Canada.\n",
    "<br>We will download historical weather data for the city of Montreal."
   ]
  },
  {
   "cell_type": "code",
   "execution_count": null,
   "metadata": {
    "application/vnd.databricks.v1+cell": {
     "cellMetadata": {},
     "inputWidgets": {},
     "nuid": "0c743f52-1cc7-44a4-9cfd-9b0f073660b2",
     "showTitle": false,
     "title": ""
    }
   },
   "outputs": [],
   "source": [
    "''' Install the required library '''\n",
    "%pip install requests"
   ]
  },
  {
   "cell_type": "code",
   "execution_count": null,
   "metadata": {
    "application/vnd.databricks.v1+cell": {
     "cellMetadata": {
      "byteLimit": 2048000,
      "rowLimit": 10000
     },
     "inputWidgets": {},
     "nuid": "d25280a3-6f0d-48fa-828f-1b44526853af",
     "showTitle": false,
     "title": ""
    }
   },
   "outputs": [],
   "source": [
    "''' Import the data through web scraping '''\n",
    "\n",
    "import requests\n",
    "\n",
    "url = \"https://montreal.weatherstats.ca/download.html\"\n",
    "\n",
    "# data for form submission\n",
    "data = {\n",
    "    'formdata': 'ok',\n",
    "    'type': 'normal_daily',  # select the last 30 years of daily stats\n",
    "    'limit': 100000,    # Set the row limit\n",
    "    'submit': 'Download'\n",
    "}\n",
    "\n",
    "\n",
    "# Send a POST request to the download URL with form data\n",
    "response = requests.post(url, data=data)\n",
    "\n",
    "if response.status_code == 200:\n",
    "    # Save the downloaded file into the mounted storage\n",
    "    with open('/dbfs/mnt/weather/raw/weather_data.csv', 'wb') as file:\n",
    "        file.write(response.content)\n",
    "\n",
    "    print(\"File downloaded successfully.\")\n",
    "\n",
    "else:\n",
    "    print(f\"Failed to download the file. Status code: {response.status_code}\")"
   ]
  }
 ],
 "metadata": {
  "application/vnd.databricks.v1+notebook": {
   "dashboards": [],
   "language": "python",
   "notebookMetadata": {
    "pythonIndentUnit": 4
   },
   "notebookName": "2. Import Weather Data",
   "widgets": {}
  },
  "language_info": {
   "name": "python"
  }
 },
 "nbformat": 4,
 "nbformat_minor": 0
}
