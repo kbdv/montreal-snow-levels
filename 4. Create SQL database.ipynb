{
 "cells": [
  {
   "cell_type": "markdown",
   "metadata": {
    "application/vnd.databricks.v1+cell": {
     "cellMetadata": {},
     "inputWidgets": {},
     "nuid": "b24f83e1-dcf6-4949-9c25-d27fc4ebf5fd",
     "showTitle": false,
     "title": ""
    }
   },
   "source": [
    "To enable SQL queries for data analysts and visualizations, it's best to store the data in a SQL Database.<br>\n",
    "Databricks has a built-in database called the Hive metastore."
   ]
  },
  {
   "cell_type": "code",
   "execution_count": null,
   "metadata": {
    "application/vnd.databricks.v1+cell": {
     "cellMetadata": {
      "byteLimit": 2048000,
      "implicitDf": true,
      "rowLimit": 10000
     },
     "inputWidgets": {},
     "nuid": "a407065e-a659-4c4f-b1e9-0ae8adbb3930",
     "showTitle": false,
     "title": ""
    }
   },
   "outputs": [],
   "source": [
    "%sql\n",
    "\n",
    "-- Create a database in the Databricks Hive metastore \n",
    "\n",
    "-- DROP TABLE snow_data_db.observations;\n",
    "CREATE DATABASE if NOT EXISTS snow_data_db;"
   ]
  },
  {
   "cell_type": "code",
   "execution_count": null,
   "metadata": {
    "application/vnd.databricks.v1+cell": {
     "cellMetadata": {
      "byteLimit": 2048000,
      "rowLimit": 10000
     },
     "inputWidgets": {},
     "nuid": "d494e29b-6a45-490b-81be-a0a54d21016a",
     "showTitle": false,
     "title": ""
    }
   },
   "outputs": [],
   "source": [
    "\"\"\" Load the data and create a table for it \"\"\"\n",
    "\n",
    "df = spark.read.parquet(\"/mnt/weather/processed/weather_processed.parquet\")\n",
    "# display(df)\n",
    "\n",
    "# write the table to Hive metastore\n",
    "df.write.saveAsTable(\"snow_data_db.observations\", mode=\"overwrite\")"
   ]
  },
  {
   "cell_type": "code",
   "execution_count": null,
   "metadata": {
    "application/vnd.databricks.v1+cell": {
     "cellMetadata": {
      "byteLimit": 2048000,
      "rowLimit": 10000
     },
     "inputWidgets": {},
     "nuid": "6e1fe6b1-ad24-44c8-80c6-5983ac07a488",
     "showTitle": false,
     "title": ""
    }
   },
   "outputs": [],
   "source": [
    "%sql\n",
    "\n",
    "-- verify that the table was created\n",
    "SHOW TABLES IN snow_data_db;"
   ]
  },
  {
   "cell_type": "code",
   "execution_count": null,
   "metadata": {
    "application/vnd.databricks.v1+cell": {
     "cellMetadata": {
      "byteLimit": 2048000,
      "rowLimit": 10000
     },
     "inputWidgets": {},
     "nuid": "24f9845c-c861-406d-8db9-cc3de2a17407",
     "showTitle": false,
     "title": ""
    }
   },
   "outputs": [],
   "source": [
    "%sql\n",
    "\n",
    "-- verify that the data was properly imported\n",
    "DESCRIBE snow_data_db.observations;"
   ]
  },
  {
   "cell_type": "code",
   "execution_count": null,
   "metadata": {
    "application/vnd.databricks.v1+cell": {
     "cellMetadata": {
      "byteLimit": 2048000,
      "rowLimit": 10000
     },
     "inputWidgets": {},
     "nuid": "f836778e-4721-4a2c-8964-dbbc3a048228",
     "showTitle": false,
     "title": ""
    }
   },
   "outputs": [],
   "source": [
    "%sql\n",
    "\n",
    "-- verify the first 5 rows\n",
    "USE snow_data_db;\n",
    "\n",
    "SELECT *\n",
    "FROM observations\n",
    "LIMIT 5;"
   ]
  },
  {
   "cell_type": "code",
   "execution_count": null,
   "metadata": {
    "application/vnd.databricks.v1+cell": {
     "cellMetadata": {
      "byteLimit": 2048000,
      "rowLimit": 10000
     },
     "inputWidgets": {},
     "nuid": "6b52c4e7-570b-45ab-8ed9-63a160b1e4a9",
     "showTitle": false,
     "title": ""
    }
   },
   "outputs": [],
   "source": [
    "%sql\n",
    "\n",
    "-- verify the last 5 rows\n",
    "USE snow_data_db;\n",
    "\n",
    "SELECT *\n",
    "FROM observations\n",
    "ORDER BY date ASC\n",
    "LIMIT 5;"
   ]
  }
 ],
 "metadata": {
  "application/vnd.databricks.v1+notebook": {
   "dashboards": [],
   "language": "python",
   "notebookMetadata": {
    "mostRecentlyExecutedCommandWithImplicitDF": {
     "commandId": -1,
     "dataframes": [
      "_sqldf"
     ]
    },
    "pythonIndentUnit": 4
   },
   "notebookName": "4. Create SQL database in Databricks Hive",
   "widgets": {}
  },
  "language_info": {
   "name": "python"
  }
 },
 "nbformat": 4,
 "nbformat_minor": 0
}
