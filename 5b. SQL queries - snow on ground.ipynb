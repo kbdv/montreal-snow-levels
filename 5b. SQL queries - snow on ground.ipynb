{
 "cells": [
  {
   "cell_type": "markdown",
   "metadata": {
    "application/vnd.databricks.v1+cell": {
     "cellMetadata": {},
     "inputWidgets": {},
     "nuid": "bf77e139-15f1-454c-811c-4300e335d7ef",
     "showTitle": false,
     "title": ""
    }
   },
   "source": [
    "Once the data is loaded into the SQL database, we can create queries for specific visualizations."
   ]
  },
  {
   "cell_type": "code",
   "execution_count": null,
   "metadata": {
    "application/vnd.databricks.v1+cell": {
     "cellMetadata": {
      "byteLimit": 2048000,
      "rowLimit": 10000
     },
     "inputWidgets": {},
     "nuid": "7b52e114-6f4b-4d94-a109-0901028908f9",
     "showTitle": false,
     "title": ""
    }
   },
   "outputs": [],
   "source": [
    "%sql\n",
    "\n",
    "-- View the data\n",
    "SELECT \n",
    "  date,\n",
    "  snow,\n",
    "  snow_on_ground\n",
    "FROM snow_data_db.observations;"
   ]
  },
  {
   "cell_type": "code",
   "execution_count": null,
   "metadata": {
    "application/vnd.databricks.v1+cell": {
     "cellMetadata": {
      "byteLimit": 2048000,
      "rowLimit": 10000
     },
     "inputWidgets": {},
     "nuid": "9e71c9f6-ae1a-46be-9e54-41af3badce7d",
     "showTitle": false,
     "title": ""
    }
   },
   "outputs": [],
   "source": [
    "%sql\n",
    "\n",
    "-- We see that the dataset doesn't contain interesting data points for ground snow prior to 1956.\n",
    "-- Let's narrow the selection.\n",
    "\n",
    "SELECT \n",
    "  date,\n",
    "  snow_on_ground\n",
    "FROM snow_data_db.observations\n",
    "WHERE date > '1955-12-31';\n",
    "\n"
   ]
  },
  {
   "cell_type": "code",
   "execution_count": null,
   "metadata": {
    "application/vnd.databricks.v1+cell": {
     "cellMetadata": {
      "byteLimit": 2048000,
      "rowLimit": 10000
     },
     "inputWidgets": {},
     "nuid": "d9179d4a-1143-405f-9049-413fffd9c80d",
     "showTitle": false,
     "title": ""
    }
   },
   "outputs": [],
   "source": [
    "# Let's display the monthly snow average and save as a separate table in the database\n",
    "\n",
    "df = spark.sql(\n",
    "    \"\"\"\n",
    "WITH cte1 AS (\n",
    "  SELECT\n",
    "    date,\n",
    "    EXTRACT(year FROM date) AS year,\n",
    "    EXTRACT(month FROM date) AS month_num,\n",
    "    date_format(date, 'MMMM') AS month,\n",
    "    EXTRACT(day FROM date) AS day,\n",
    "    date_format(date, 'EEEE') AS weekday,\n",
    "    snow_on_ground\n",
    "  FROM snow_data_db.observations\n",
    "  WHERE date BETWEEN '1956-01-01' AND '2023-12-31'\n",
    ")\n",
    "SELECT\n",
    "  date,\n",
    "  year,\n",
    "  month,\n",
    "  day,\n",
    "  weekday,\n",
    "  snow_on_ground\n",
    "FROM cte1\n",
    "ORDER BY date ASC;\n",
    "\"\"\"\n",
    ")\n",
    "\n",
    "df.write.mode(\"overwrite\").option(\"overwriteSchema\", \"true\").saveAsTable(\n",
    "    \"snow_data_db.snowground\"\n",
    ")"
   ]
  }
 ],
 "metadata": {
  "application/vnd.databricks.v1+notebook": {
   "dashboards": [
    {
     "elements": [],
     "globalVars": {},
     "guid": "",
     "layoutOption": {
      "grid": true,
      "stack": true
     },
     "nuid": "f2645fac-8c10-4ed0-a008-38423c8194e6",
     "origId": 3491974702989981,
     "title": "Snowfall 1956-2024",
     "version": "DashboardViewV1",
     "width": 1920
    }
   ],
   "language": "python",
   "notebookMetadata": {
    "pythonIndentUnit": 4
   },
   "notebookName": "5b. SQL queries - snow on ground",
   "widgets": {}
  },
  "language_info": {
   "name": "python"
  }
 },
 "nbformat": 4,
 "nbformat_minor": 0
}
